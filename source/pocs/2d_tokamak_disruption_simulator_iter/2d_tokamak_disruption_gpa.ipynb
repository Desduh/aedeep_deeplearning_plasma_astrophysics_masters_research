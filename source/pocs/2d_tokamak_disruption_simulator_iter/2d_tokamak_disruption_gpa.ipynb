{
  "nbformat": 4,
  "nbformat_minor": 0,
  "metadata": {
    "colab": {
      "private_outputs": true,
      "provenance": []
    },
    "kernelspec": {
      "name": "python3",
      "display_name": "Python 3"
    },
    "language_info": {
      "name": "python"
    }
  },
  "cells": [
    {
      "cell_type": "markdown",
      "source": [
        "2D-TokamakDisruption-Simulator    by  J. Kawamura (ITER)"
      ],
      "metadata": {
        "id": "etSytlbHvfMi"
      }
    },
    {
      "cell_type": "markdown",
      "source": [
        "This simulator is a toymodel to test disruption detection tools in tokamaks with circular toroidal geometry. The first module simulates the magnetic field instability (Kink Instability). The second module simulates the central anomaly in the plasma density (values ​​greater than 0.7 cause a void in the central density that results in a strong temperature gradient) as a result of the Kink instability. The third module presents the evolution of a temperature anomaly characterizing the disruption that can compromise the stability of the fusion process in a simple tokamak. Techniques that show good performance in detecting and predicting these anomalies can be applied in more realistic simulations using the JOREK package.\n",
        "\n",
        "\n",
        "---\n",
        "\n"
      ],
      "metadata": {
        "id": "LlL2IBROsUWQ"
      }
    },
    {
      "cell_type": "markdown",
      "source": [
        "Module 01 (V2-Nov24) - Kink Instability"
      ],
      "metadata": {
        "id": "CiwEPXsmv9Ww"
      }
    },
    {
      "cell_type": "code",
      "source": [
        "import numpy as np\n",
        "import matplotlib.pyplot as plt\n",
        "import imageio.v2 as imageio\n",
        "import os\n",
        "\n",
        "# 2D-Domain\n",
        "nx, ny = 64, 64\n",
        "x = np.linspace(-1.0, 1.0, nx)\n",
        "y = np.linspace(-1.0, 1.0, ny)\n",
        "X, Y = np.meshgrid(x, y, indexing='ij')\n",
        "R = np.sqrt(X**2 + Y**2)\n",
        "Theta = np.arctan2(Y, X)\n",
        "\n",
        "# Initial Magnetic Field: B_theta ~ pinch, Bz ~ uniforme\n",
        "Bz = np.ones_like(R) * 1.0\n",
        "Btheta0 = 1 / (1 + 10 * R**2)  # centred profile\n",
        "\n",
        "# Helicoidal Perturbation m=1\n",
        "kink_amp = 0.1\n",
        "perturb = kink_amp * np.cos(Theta) * np.exp(-10 * R**2)\n",
        "\n",
        "# Artificial Dissipation\n",
        "timesteps = 60\n",
        "gamma = 0.05  # Dissipation Coefficient\n",
        "frames = []\n",
        "\n",
        "if not os.path.exists(\"frames\"): os.makedirs(\"frames\")\n",
        "\n",
        "for t in range(timesteps):\n",
        "    phase = 2 * np.pi * t / timesteps\n",
        "    kink = perturb * np.sin(phase)\n",
        "\n",
        "    # B_theta with temporary perturbation and imposed dissipation\n",
        "    Btheta = Btheta0 * np.exp(-gamma * t) + kink\n",
        "\n",
        "    # Cartesian Magnetic Components\n",
        "    Bx = -Btheta * np.sin(Theta) + 0.05 * Bz * np.cos(Theta)\n",
        "    By =  Btheta * np.cos(Theta) + 0.05 * Bz * np.sin(Theta)\n",
        "\n",
        "    # Visualization\n",
        "    plt.figure(figsize=(6, 6))\n",
        "    plt.streamplot(x, y, Bx.T, By.T, color=np.sqrt(Bx**2 + By**2).T, cmap='inferno', density=1.5)\n",
        "    plt.title(f'Plasma Instability (1,1) from Reconnexion \\nFrame {t}')\n",
        "    plt.axis('equal')\n",
        "    plt.axis('off')\n",
        "    filename = f\"frames/frame_{t:03d}.png\"\n",
        "    plt.savefig(filename, bbox_inches='tight')\n",
        "    plt.close()\n",
        "    frames.append(imageio.imread(filename))\n",
        "\n",
        "# Saving GIF\n",
        "imageio.mimsave(\"kink_rec_instability.gif\", frames, duration=0.1)\n",
        "\n",
        "# Cleaning temporary images (optional)\n",
        "for f in os.listdir(\"frames\"):\n",
        "    os.remove(os.path.join(\"frames\", f))\n",
        "os.rmdir(\"frames\")\n",
        "\n",
        "print(\"GIF save as kink_rec_instability.gif\")"
      ],
      "metadata": {
        "id": "sZmRFs14TagE"
      },
      "execution_count": null,
      "outputs": []
    },
    {
      "cell_type": "code",
      "source": [
        "from IPython.display import Image, display\n",
        "\n",
        "# Caminho do GIF salvo\n",
        "gif_path = \"kink_rec_instability.gif\"\n",
        "\n",
        "# Exibir no notebook\n",
        "display(Image(filename=gif_path))"
      ],
      "metadata": {
        "id": "xIQg-kanUBn-"
      },
      "execution_count": null,
      "outputs": []
    },
    {
      "cell_type": "markdown",
      "source": [
        "Module 02 (V2-Nov24) - Plasma Density Central Anomaly"
      ],
      "metadata": {
        "id": "eL0jLEZfwZMf"
      }
    },
    {
      "cell_type": "code",
      "source": [
        "import numpy as np\n",
        "import matplotlib.pyplot as plt\n",
        "import imageio\n",
        "import os\n",
        "\n",
        "# Parameters\n",
        "nx, nr = 64, 64\n",
        "x = np.linspace(-1, 1, nx)\n",
        "r = np.linspace(-1, 1, nr)\n",
        "X, Y = np.meshgrid(x, r, indexing='ij')\n",
        "R = np.sqrt(X**2 + Y**2)\n",
        "dt, nt = 1e-3, 60  # shorter simulation for demo\n",
        "\n",
        "# Initial plasma density profile (Gaussian centered)\n",
        "density0 = 1.0 * np.exp(-5 * R**2)\n",
        "\n",
        "# Prepare for saving frames\n",
        "frames_dir = \"frames_disruption\"\n",
        "os.makedirs(frames_dir, exist_ok=True)\n",
        "filenames = []\n",
        "\n",
        "# Temporal loop simulating a disruption (growing anomaly at center)\n",
        "for it in range(nt):\n",
        "    time_factor = it / nt\n",
        "    anomaly = 0.75 * np.exp(-50 * R**2) * time_factor  # grows in center\n",
        "    density = density0 * (1 - anomaly)\n",
        "\n",
        "    # Save color plot of density\n",
        "    fig, ax = plt.subplots(figsize=(6, 5))\n",
        "    im = ax.imshow(density.T, origin='lower', extent=[x.min(), x.max(), r.min(), r.max()],\n",
        "                   cmap='RdBu_r', aspect='equal', vmin=0, vmax=1.0)\n",
        "    ax.set_title(f'Plasma Density at t={it}')\n",
        "    ax.set_xlabel('x')\n",
        "    ax.set_ylabel('y')\n",
        "    plt.colorbar(im, ax=ax, label='Density')\n",
        "    fname = os.path.join(frames_dir, f\"frame_{it:03d}.png\")\n",
        "    plt.savefig(fname)\n",
        "    plt.close()\n",
        "    filenames.append(fname)\n",
        "\n",
        "# Create GIF\n",
        "gif_filename = \"plasma_density_anomaly.gif\"\n",
        "with imageio.get_writer(gif_filename, mode='I', duration=0.1) as writer:\n",
        "    for fname in filenames:\n",
        "        image = imageio.imread(fname)\n",
        "        writer.append_data(image)\n",
        "\n",
        "# Clean up frames\n",
        "for fname in filenames:\n",
        "    os.remove(fname)\n",
        "os.rmdir(frames_dir)\n",
        "\n",
        "print(f\"GIF saved as {gif_filename}\")\n"
      ],
      "metadata": {
        "id": "Qk1GP1i4pxRu"
      },
      "execution_count": null,
      "outputs": []
    },
    {
      "cell_type": "code",
      "source": [
        "from IPython.display import Image, display\n",
        "\n",
        "# Path to the generated GIF\n",
        "gif_path = \"plasma_density_anomaly.gif\"\n",
        "\n",
        "# Display the GIF\n",
        "display(Image(filename=gif_path))"
      ],
      "metadata": {
        "id": "w2bN2z3ckSFg"
      },
      "execution_count": null,
      "outputs": []
    },
    {
      "cell_type": "markdown",
      "source": [
        "Module 03 (V2-Nov24) - Plasma Temperature Anomaly (Disruption)"
      ],
      "metadata": {
        "id": "mKPiSfAmwj0P"
      }
    },
    {
      "cell_type": "code",
      "source": [
        "import numpy as np\n",
        "import matplotlib.pyplot as plt\n",
        "from scipy.ndimage import zoom, sobel, center_of_mass\n",
        "from scipy.stats import skew, kurtosis\n",
        "from skimage.measure import shannon_entropy\n",
        "from numpy.fft import ifft2\n",
        "from matplotlib.ticker import MaxNLocator\n",
        "\n",
        "# --------- Diffusive Noise 2D ---------\n",
        "def diffusive_noise_2d(shape, alpha=2.0):\n",
        "    ny, nx = shape\n",
        "    kx = np.fft.fftfreq(nx).reshape(1, nx)\n",
        "    ky = np.fft.fftfreq(ny).reshape(ny, 1)\n",
        "    k = np.sqrt(kx**2 + ky**2)\n",
        "    k[0, 0] = 1\n",
        "    amplitude = 1 / (k ** alpha)\n",
        "    noise = np.random.normal(size=shape) + 1j * np.random.normal(size=shape)\n",
        "    red_spectrum = noise * amplitude\n",
        "    red_noise = np.real(ifft2(red_spectrum))\n",
        "    red_noise = (red_noise - red_noise.min()) / (red_noise.max() - red_noise.min())\n",
        "    return red_noise\n",
        "\n",
        "# --------- Multifractal Noise 2D ---------\n",
        "def multifractal_noise_2d(size=(64, 64), levels=6, p=0.15):\n",
        "    field = np.ones((1, 1))\n",
        "    for _ in range(levels):\n",
        "        field = np.kron(field, np.ones((2, 2)))\n",
        "        shape = field.shape\n",
        "        mask = np.random.rand(*shape) < 0.5\n",
        "        weights = np.where(mask, p, 1 - p)\n",
        "        field *= weights\n",
        "    if field.shape != size:\n",
        "        zoom_factor = (size[0] / field.shape[0], size[1] / field.shape[1])\n",
        "        field = zoom(field, zoom_factor)\n",
        "    field = (field - field.min()) / (field.max() - field.min())\n",
        "    return field\n",
        "\n",
        "# --------- Plasma Temperature Anomaly Evolution ---------\n",
        "def generate_synthetic_plasma_sequence(seq_len=128, size=(64, 64), anomaly_start=110, p=0.28, seed=42):\n",
        "    np.random.seed(seed)\n",
        "    sequence = []\n",
        "    mean_temps = []\n",
        "    std_temps = []\n",
        "    entropy_temps = []\n",
        "    energy_temps = []\n",
        "    gradient_mags = []\n",
        "    skews = []\n",
        "    kurtoses = []\n",
        "    centroids = []\n",
        "\n",
        "    for t in range(seq_len):\n",
        "        base = np.exp(-((np.indices(size)[0] - size[0] // 2)**2 +\n",
        "                        (np.indices(size)[1] - size[1] // 2)**2) / 300)\n",
        "\n",
        "        if t >= anomaly_start:\n",
        "            x, y = 20 + (t - anomaly_start) * 2, 20 + (t - anomaly_start) * 2\n",
        "            anomaly = np.exp(-((np.indices(size)[0] - x)**2 +\n",
        "                               (np.indices(size)[1] - y)**2) / (20 - t + anomaly_start + 1))\n",
        "            base += 0.5 * anomaly\n",
        "\n",
        "        base += 0.01 * diffusive_noise_2d(size)\n",
        "        base *= 1 + 0.3 * multifractal_noise_2d(size=size, levels=6, p=p)\n",
        "        base = (base - base.min()) / (base.max() - base.min())\n",
        "\n",
        "        # Métricas\n",
        "        mean_temps.append(base.mean())\n",
        "        std_temps.append(base.std())\n",
        "        entropy_temps.append(shannon_entropy(base))\n",
        "        energy_temps.append(np.sum(base**2))\n",
        "        gradient_mags.append(np.mean(np.hypot(sobel(base, axis=0), sobel(base, axis=1))))\n",
        "        skews.append(skew(base.ravel()))\n",
        "        kurtoses.append(kurtosis(base.ravel()))\n",
        "        centroids.append(center_of_mass(base))\n",
        "\n",
        "        sequence.append(base)\n",
        "\n",
        "    # Distância entre centros de massa consecutivos\n",
        "    centroid_dists = [np.linalg.norm(np.array(centroids[i+1]) - np.array(centroids[i]))\n",
        "                      for i in range(len(centroids)-1)]\n",
        "    centroid_dists.insert(0, 0.0)\n",
        "\n",
        "    return (np.array(sequence), np.array(mean_temps),\n",
        "            np.array(std_temps), np.array(entropy_temps),\n",
        "            np.array(energy_temps), np.array(gradient_mags),\n",
        "            np.array(skews), np.array(kurtoses),\n",
        "            np.array(centroid_dists))\n",
        "\n",
        "# --------- Visualization: Sequence ---------\n",
        "def plot_sequence(sequence, cols=5):\n",
        "    n_frames = sequence.shape[0]\n",
        "    rows = n_frames // cols + int(n_frames % cols > 0)\n",
        "    fig, axes = plt.subplots(rows, cols, figsize=(15, 3 * rows))\n",
        "    axes = axes.flatten()\n",
        "    for i in range(n_frames):\n",
        "        axes[i].imshow(sequence[i], cmap='hot', interpolation='nearest')\n",
        "        axes[i].set_title(f\"Frame {i+1}\")\n",
        "        axes[i].axis('off')\n",
        "    for j in range(n_frames, rows * cols):\n",
        "        axes[j].axis('off')\n",
        "    plt.tight_layout()\n",
        "    plt.show()\n",
        "\n",
        "# --------- Visualization: Mean Temperature ---------\n",
        "def plot_mean_temperature_curve(mean_temps, p=None):\n",
        "    global_mean = mean_temps.mean()\n",
        "    lower = global_mean * 0.95\n",
        "    upper = global_mean * 1.05\n",
        "\n",
        "    fig, ax = plt.subplots(figsize=(8, 4))\n",
        "    ax.plot(mean_temps, marker='o', color='blue', label='Snapshot Mean Temp.')\n",
        "    ax.axhline(lower, color='red', linestyle='--', label='Limit -5%')\n",
        "    ax.axhline(upper, color='red', linestyle='--', label='Limit +5%')\n",
        "    ax.axhline(global_mean, color='black', linestyle='-', label='Global Mean')\n",
        "    ax.fill_between(range(len(mean_temps)), lower, upper, color='red', alpha=0.1)\n",
        "\n",
        "    ax.set_title(f\"Mean Temp within ±5% Range (centered at global mean){f' | p = {p}' if p is not None else ''}\")\n",
        "    ax.set_xlabel(\"Snapshot (t)\")\n",
        "    ax.set_ylabel(\"Normalized Mean Temperature\")\n",
        "    ax.legend()\n",
        "    ax.grid(True)\n",
        "    ax.xaxis.set_major_locator(MaxNLocator(integer=True))\n",
        "    plt.tight_layout()\n",
        "    plt.show()\n",
        "\n",
        "# --------- Visualization: All Metrics ---------\n",
        "def plot_temporal_metrics(metrics_dict, anomaly_start=None):\n",
        "    fig, ax = plt.subplots(len(metrics_dict), 1, figsize=(10, 2.2 * len(metrics_dict)), sharex=True)\n",
        "    for i, (label, data) in enumerate(metrics_dict.items()):\n",
        "        ax[i].plot(data, label=label)\n",
        "        if anomaly_start is not None:\n",
        "            ax[i].axvline(anomaly_start, color='r', linestyle='--', label='Anomalia')\n",
        "        ax[i].legend()\n",
        "        ax[i].grid(True)\n",
        "    ax[-1].set_xlabel(\"Frame\")\n",
        "    plt.tight_layout()\n",
        "    plt.show()\n",
        "\n",
        "# --------- Execução principal ---------\n",
        "# if __name__ == \"__main__\":\n",
        "#     results = generate_synthetic_plasma_sequence()\n",
        "#     sequence, mean, std, entropy, energy, gradient, skewness, kurt, centroid_d = results\n",
        "#     plot_sequence(sequence)\n",
        "#     plot_mean_temperature_curve(mean)\n",
        "#     plot_temporal_metrics({\n",
        "#         \"Média\": mean,\n",
        "#         \"Desvio Padrão\": std,\n",
        "#         \"Entropia\": entropy,\n",
        "#         \"Energia\": energy,\n",
        "#         \"Gradiente\": gradient,\n",
        "#         \"Skewness\": skewness,\n",
        "#         \"Curtose\": kurt,\n",
        "#         \"Δ Centro de Massa\": centroid_d,\n",
        "#     }, anomaly_start=110)\n"
      ],
      "metadata": {
        "id": "yKjK6iDHwzkv"
      },
      "execution_count": null,
      "outputs": []
    },
    {
      "cell_type": "code",
      "source": [
        "anomaly_start=110\n",
        "results = generate_synthetic_plasma_sequence(p=0.6, anomaly_start=anomaly_start)\n",
        "sequence, mean, std, entropy, energy, gradient, skewness, kurt, centroid_d = results"
      ],
      "metadata": {
        "id": "QcPI35mt2ULN"
      },
      "execution_count": null,
      "outputs": []
    },
    {
      "cell_type": "code",
      "source": [
        "!pip install git+https://github.com/rsautter/GPA"
      ],
      "metadata": {
        "id": "Y1y3Q0yDFcn2"
      },
      "execution_count": null,
      "outputs": []
    },
    {
      "cell_type": "code",
      "source": [
        "sequence[0].shape"
      ],
      "metadata": {
        "id": "i5YNk4VEFqNm"
      },
      "execution_count": null,
      "outputs": []
    },
    {
      "cell_type": "code",
      "source": [
        "from GPA import GPA\n",
        "\n",
        "image = sequence[0]\n",
        "\n",
        "# normaliza pelo valor maximo\n",
        "im = np.array(image).astype(float)[2:-2,2:-2]\n",
        "\n",
        "# tol eh a tolerancia da tecnica\n",
        "ga = GPA(tol = 0.05)\n",
        "ga(im)\n",
        "sym = np.array(ga.symmetricalP)\n",
        "asym = np.array(ga.asymmetricalP)\n",
        "\n",
        "dx, dy = np.gradient(im)\n",
        "abs = (dx**2+dy**2)**0.5\n",
        "dx,dy = dx/abs,dy/abs\n",
        "\n",
        "#mostra a imagem\n",
        "plt.figure(figsize=(4,4))\n",
        "plt.imshow(im,cmap='gray',origin='lower')\n",
        "\n",
        "#mostra a grade gradiente total\n",
        "plt.quiver(dy,dx,color='b',scale=27,width=0.0025,headwidth=5.5)\n",
        "#plt.legend(fontsize=8,loc=1)\n",
        "plt.show()"
      ],
      "metadata": {
        "id": "fAx7ebK0Fil3"
      },
      "execution_count": null,
      "outputs": []
    },
    {
      "cell_type": "code",
      "source": [
        "# tol eh a tolerancia da tecnica\n",
        "ga = GPA(tol = 0.05)\n",
        "\n",
        "# observacao: G1_Classic eh a primeira medida proposta para o GPA (NC-NV)/NV\n",
        "ga(im,moment=[\"G1_Classic\", \"G1\",\"G2\",\"G3\",\"G4\"])"
      ],
      "metadata": {
        "id": "H62xMTNSF-nM"
      },
      "execution_count": null,
      "outputs": []
    },
    {
      "cell_type": "code",
      "source": [
        "def calculateGPAMoments(mat):\n",
        "    mat = np.array(mat).astype(np.float64)\n",
        "    moments = ga(mat, moment=['G1', 'G2', 'G3', 'G4'])\n",
        "    moments = {key :\n",
        "        round(moments[key], 3) if type(moments[key]) != np.dtype(np.complex128)\n",
        "        else complex(np.round(moments[key].real,3),np.round(moments[key].imag,3)) for key in moments}\n",
        "    return moments"
      ],
      "metadata": {
        "id": "YMDZNgZKGHey"
      },
      "execution_count": null,
      "outputs": []
    },
    {
      "cell_type": "code",
      "source": [
        "moments_tokamak = [calculateGPAMoments(frame) for frame in sequence]"
      ],
      "metadata": {
        "id": "14o62clsGK1V"
      },
      "execution_count": null,
      "outputs": []
    },
    {
      "cell_type": "code",
      "source": [
        "import pandas as pd\n",
        "\n",
        "df_moments_tokamak = pd.DataFrame(moments_tokamak)\n",
        "\n",
        "df_moments_tokamak['G4_real'] = df_moments_tokamak['G4'].apply(lambda x: x.real)\n",
        "df_moments_tokamak['G4_imag'] = df_moments_tokamak['G4'].apply(lambda x: x.imag)"
      ],
      "metadata": {
        "id": "dEvd3tmrGag_"
      },
      "execution_count": null,
      "outputs": []
    },
    {
      "cell_type": "code",
      "source": [
        "import matplotlib.pyplot as plt\n",
        "\n",
        "# Define colors for each moment\n",
        "colors = {\n",
        "    'G1': 'tab:blue',\n",
        "    'G2': 'tab:orange',\n",
        "    'G3': 'tab:green',\n",
        "    'G4_real': 'tab:red',\n",
        "    'G4_imag': 'tab:purple'\n",
        "}\n",
        "\n",
        "# Create the figure and a single axis\n",
        "fig, ax = plt.subplots(figsize=(14, 5))\n",
        "\n",
        "# Plot the moments of the Pmodel\n",
        "ax.plot(df_moments_tokamak['G1'], label='Pmodel G1', color=colors['G1'], linestyle='--')\n",
        "ax.plot(df_moments_tokamak['G2'], label='Pmodel G2', color=colors['G2'], linestyle='--')\n",
        "ax.plot(df_moments_tokamak['G3'], label='Pmodel G3', color=colors['G3'], linestyle='--')\n",
        "# ax.plot(df_moments_tokamak['G4_real'], label='Pmodel Re(G4)', color=colors['G4_real'], linestyle='--')\n",
        "# ax.plot(df_moments_tokamak['G4_imag'], label='Pmodel Im(G4)', color=colors['G4_imag'], linestyle='--')\n",
        "\n",
        "# Add vertical line indicating the start of the anomaly\n",
        "ax.axvline(x=anomaly_start, color='red', linestyle=':', linewidth=2, label='Anomaly Start')\n",
        "\n",
        "# Configure plot\n",
        "ax.set_title('Evolution of GPA Moments (Pmodel)')\n",
        "ax.set_xlabel('Frame')\n",
        "ax.set_ylabel('Moment Value')\n",
        "ax.legend(ncol=2, fontsize='small')\n",
        "ax.grid(True)\n",
        "\n",
        "# Adjust layout and show plot\n",
        "plt.tight_layout()\n",
        "plt.show()\n"
      ],
      "metadata": {
        "id": "0TibBJkMGjDj"
      },
      "execution_count": null,
      "outputs": []
    },
    {
      "cell_type": "code",
      "source": [
        "import matplotlib.pyplot as plt\n",
        "\n",
        "# Define colors for each moment\n",
        "colors = {\n",
        "    'G1': 'tab:blue',\n",
        "    'G2': 'tab:orange',\n",
        "    'G3': 'tab:green',\n",
        "    'G4_real': 'tab:red',\n",
        "    'G4_imag': 'tab:purple'\n",
        "}\n",
        "\n",
        "# Normalize columns to [0, 1] using min-max scaling\n",
        "cols_to_normalize = ['G1', 'G2', 'G3']  # Adicione 'G4_real', 'G4_imag' se quiser\n",
        "df_norm = df_moments_tokamak.copy()\n",
        "for col in cols_to_normalize:\n",
        "    min_val = df_norm[col].min()\n",
        "    max_val = df_norm[col].max()\n",
        "    df_norm[col] = (df_norm[col] - min_val) / (max_val - min_val)\n",
        "\n",
        "# Create the figure and a single axis\n",
        "fig, ax = plt.subplots(figsize=(14, 5))\n",
        "\n",
        "# Plot the normalized moments\n",
        "ax.plot(df_norm['G1'], label='Pmodel G1', color=colors['G1'], linestyle='--')\n",
        "ax.plot(df_norm['G2'], label='Pmodel G2', color=colors['G2'], linestyle='--')\n",
        "ax.plot(df_norm['G3'], label='Pmodel G3', color=colors['G3'], linestyle='--')\n",
        "# ax.plot(df_norm['G4_real'], label='Pmodel Re(G4)', color=colors['G4_real'], linestyle='--')\n",
        "# ax.plot(df_norm['G4_imag'], label='Pmodel Im(G4)', color=colors['G4_imag'], linestyle='--')\n",
        "\n",
        "# Add vertical line indicating the start of the anomaly\n",
        "ax.axvline(x=anomaly_start, color='red', linestyle=':', linewidth=2, label='Anomaly Start')\n",
        "\n",
        "# Configure plot\n",
        "ax.set_title('Evolution of Normalized GPA Moments (Pmodel)')\n",
        "ax.set_xlabel('Frame')\n",
        "ax.set_ylabel('Normalized Moment Value')\n",
        "ax.legend(ncol=2, fontsize='small')\n",
        "ax.grid(True)\n",
        "\n",
        "# Adjust layout and show plot\n",
        "plt.tight_layout()\n",
        "plt.show()\n"
      ],
      "metadata": {
        "id": "TD6KUaNgINMg"
      },
      "execution_count": null,
      "outputs": []
    },
    {
      "cell_type": "code",
      "source": [
        "import matplotlib.pyplot as plt\n",
        "\n",
        "# Define color for G2\n",
        "color_g2 = 'tab:orange'\n",
        "\n",
        "# Normaliza G2 para o intervalo [0, 1]\n",
        "df_norm = df_moments_tokamak.copy()\n",
        "g2_min = df_norm['G2'].min()\n",
        "g2_max = df_norm['G2'].max()\n",
        "df_norm['G2'] = (df_norm['G2'] - g2_min) / (g2_max - g2_min)\n",
        "\n",
        "# Cria a figura e o eixo\n",
        "fig, ax = plt.subplots(figsize=(14, 5))\n",
        "\n",
        "# Plota o G2 normalizado\n",
        "ax.plot(df_norm['G2'], label='Pmodel G2 (normalized)', color=color_g2, linestyle='--')\n",
        "\n",
        "# Linha vertical indicando o início da anomalia\n",
        "ax.axvline(x=anomaly_start, color='red', linestyle=':', linewidth=2, label='Anomaly Start')\n",
        "\n",
        "# Configurações do gráfico\n",
        "ax.set_title('Evolution of Normalized GPA Moment G2 (Pmodel)')\n",
        "ax.set_xlabel('Frame')\n",
        "ax.set_ylabel('Normalized G2 Value')\n",
        "ax.legend(fontsize='small')\n",
        "ax.grid(True)\n",
        "\n",
        "# Ajusta layout e exibe o gráfico\n",
        "plt.tight_layout()\n",
        "plt.show()\n"
      ],
      "metadata": {
        "id": "kRR5mI4zIa4P"
      },
      "execution_count": null,
      "outputs": []
    },
    {
      "cell_type": "code",
      "source": [
        "import pandas as pd\n",
        "\n",
        "# Cria uma cópia e normaliza G2\n",
        "df_norm = df_moments_tokamak.copy()\n",
        "g2_min = df_norm['G2'].min()\n",
        "g2_max = df_norm['G2'].max()\n",
        "df_norm['G2_normalized'] = (df_norm['G2'] - g2_min) / (g2_max - g2_min)\n",
        "\n",
        "# Salva somente a coluna G2 normalizada no CSV\n",
        "df_norm[['G2_normalized']].to_csv('g2_normalized.csv', index_label='Frame')\n"
      ],
      "metadata": {
        "id": "LAXNUZcMInTu"
      },
      "execution_count": null,
      "outputs": []
    },
    {
      "cell_type": "code",
      "source": [
        "plot_sequence(sequence)"
      ],
      "metadata": {
        "id": "_KqhNIUR9BIC"
      },
      "execution_count": null,
      "outputs": []
    },
    {
      "cell_type": "code",
      "source": [
        "plot_mean_temperature_curve(mean)"
      ],
      "metadata": {
        "id": "4kG68_JyMQTu"
      },
      "execution_count": null,
      "outputs": []
    },
    {
      "cell_type": "code",
      "source": [
        "import matplotlib.pyplot as plt\n",
        "\n",
        "# Valores de p para testar\n",
        "p_values = [0.1, 0.2, 0.3, 0.4, 0.6, 0.7, 0.8, 0.9]\n",
        "\n",
        "for p in p_values:\n",
        "    results = generate_synthetic_plasma_sequence(p=p)\n",
        "    sequence, mean, std, entropy, energy, gradient, skewness, kurt, centroid_d = results\n",
        "    plot_mean_temperature_curve(mean, p=p)\n"
      ],
      "metadata": {
        "id": "u3QTkkquLyPW"
      },
      "execution_count": null,
      "outputs": []
    },
    {
      "cell_type": "code",
      "source": [
        "results = generate_synthetic_plasma_sequence(p=0.6)\n",
        "sequence, mean, std, entropy, energy, gradient, skewness, kurt, centroid_d = results"
      ],
      "metadata": {
        "id": "6l2wX37EscBI"
      },
      "execution_count": null,
      "outputs": []
    },
    {
      "cell_type": "code",
      "source": [
        "mean = np.array(mean)\n",
        "\n",
        "# Normalização padrão (0 para mínimo, 1 para máximo)\n",
        "norm = (mean - np.min(mean)) / (np.max(mean) - np.min(mean))\n",
        "\n",
        "# Inversão: agora o menor vira 1 e o maior vira 0\n",
        "norm_invertido = 1 - norm"
      ],
      "metadata": {
        "id": "fmWaFY2qJSzV"
      },
      "execution_count": null,
      "outputs": []
    },
    {
      "cell_type": "code",
      "source": [
        "plot_mean_temperature_curve(norm_invertido)"
      ],
      "metadata": {
        "id": "XCu20vx4JxEp"
      },
      "execution_count": null,
      "outputs": []
    },
    {
      "cell_type": "code",
      "source": [
        "import pandas as pd\n",
        "import numpy as np\n",
        "\n",
        "df = pd.DataFrame({'values': norm_invertido})\n",
        "df.to_csv('norm_invertido.csv', index=False)"
      ],
      "metadata": {
        "id": "aF9ajhxLTSSV"
      },
      "execution_count": null,
      "outputs": []
    },
    {
      "cell_type": "code",
      "source": [
        "plot_temporal_metrics({\n",
        "    \"Média\": mean,\n",
        "    \"Desvio Padrão\": std,\n",
        "    \"Entropia\": entropy,\n",
        "    \"Energia\": energy,\n",
        "    \"Gradiente\": gradient,\n",
        "    \"Skewness\": skewness,\n",
        "    \"Curtose\": kurt,\n",
        "    \"Δ Centro de Massa\": centroid_d,\n",
        "}, anomaly_start=110)"
      ],
      "metadata": {
        "id": "l9WIPpOn9DtE"
      },
      "execution_count": null,
      "outputs": []
    },
    {
      "cell_type": "code",
      "source": [
        "#XP-model adapted from Meneveau & Sreenevasan, 1987 & Malara et al., 2016\n",
        "#Valid Ranges for p, based on Didier-Sornette's Theory\n",
        "#Author: R.R.Rosa, R. Sautter and  N. Joshi\n",
        "#Version: 1.1\n",
        "#Date: 23/08/2022\n",
        "\n",
        "import numpy as np\n",
        "#import statistics as stat\n",
        "from matplotlib import pyplot\n",
        "\n",
        "\n",
        "def pmodel(noValues=1024, p=0.3, slope=[]):\n",
        "    print(noValues)\n",
        "    noOrders = int(np.ceil(np.log2(noValues)))\n",
        "    noValues = int(noValues)\n",
        "    noValuesGenerated = 2**noOrders\n",
        "\n",
        "    dx = np.array([1])\n",
        "    for n in range(noOrders):\n",
        "        dx = next_step_1d(dx, p)\n",
        "\n",
        "    if (slope):\n",
        "        fourierCoeff = fractal_spectrum_1d(noValues, slope/2)\n",
        "        meanVal = np.mean(dx)\n",
        "        stdy = np.std(dx)\n",
        "        x = np.fft.ifft(dx - meanVal)\n",
        "        phase = np.angle(x)\n",
        "        x = fourierCoeff*np.exp(1j*phase)\n",
        "        x = np.fft.fft(x).real\n",
        "        x *= stdy/np.std(x)\n",
        "        x += meanVal\n",
        "    else:\n",
        "        x = dx\n",
        "\n",
        "    return x[0:noValues], dx[0:noValues]\n",
        "\n",
        "\n",
        "def next_step_1d(dx, p):\n",
        "    y2 = np.zeros(dx.size*2)\n",
        "    sign = np.random.rand(1, dx.size) - 0.5\n",
        "    sign /= np.abs(sign)\n",
        "    y2[0:2*dx.size:2] = dx + sign*(1-2*p)*dx\n",
        "    y2[1:2*dx.size+1:2] = dx - sign*(1-2*p)*dx\n",
        "\n",
        "    return y2\n",
        "\n",
        "\n",
        "def fractal_spectrum_1d(noValues, slope):\n",
        "    ori_vector_size = noValues\n",
        "    ori_half_size = ori_vector_size//2\n",
        "    a = np.zeros(ori_vector_size)\n",
        "\n",
        "    for t2 in range(ori_half_size):\n",
        "        index = t2\n",
        "        t4 = 1 + ori_vector_size - t2\n",
        "        if (t4 >= ori_vector_size):\n",
        "            t4 = t2\n",
        "        coeff = (index + 1)**slope\n",
        "        a[t2] = coeff\n",
        "        a[t4] = coeff\n",
        "\n",
        "    a[1] = 0\n",
        "\n",
        "    return a\n",
        "\n"
      ],
      "metadata": {
        "id": "2ebElglLpmVO"
      },
      "execution_count": null,
      "outputs": []
    },
    {
      "cell_type": "code",
      "source": [
        "serie = np.array(mean)"
      ],
      "metadata": {
        "id": "iZumBmODqyZg"
      },
      "execution_count": null,
      "outputs": []
    },
    {
      "cell_type": "code",
      "source": [
        "def flutuacoes_por_escala(serie, max_scale=6):\n",
        "    \"\"\"Calcula variância das diferenças em múltiplas escalas logarítmicas\"\"\"\n",
        "    variancias = []\n",
        "    escalas = [2**i for i in range(1, max_scale+1)]\n",
        "    for s in escalas:\n",
        "        diffs = serie[s:] - serie[:-s]\n",
        "        variancias.append(np.var(diffs))\n",
        "    return escalas, variancias\n",
        "\n",
        "def plot_pdf_deltas(serie, label):\n",
        "    deltas = np.diff(serie)\n",
        "    plt.hist(deltas, bins=30, density=True, alpha=0.5, label=label)\n",
        "\n",
        "def espectro_potencia(serie, label):\n",
        "    n = len(serie)\n",
        "    if n == 0:\n",
        "        print(f'Série {label} vazia, pulando espectro.')\n",
        "        return\n",
        "    f = np.fft.rfftfreq(n)\n",
        "    fft = np.fft.rfft(serie - np.mean(serie))\n",
        "    psd = np.abs(fft)**2\n",
        "\n",
        "    if len(f) <= 1:\n",
        "        print(f'Série {label} muito curta para espectro.')\n",
        "        return\n",
        "\n",
        "    plt.loglog(f[1:], psd[1:], label=label)  # pula f=0\n",
        "\n",
        "\n",
        "ps = np.linspace(0.5, 0.6, 20)\n",
        "\n",
        "for p in ps:\n",
        "    serie_p = pmodel(len(serie),p)[1]\n",
        "\n",
        "    # Flutuações por escala\n",
        "    escalas, var_real = flutuacoes_por_escala(serie)\n",
        "    _, var_p = flutuacoes_por_escala(serie_p)\n",
        "\n",
        "    plt.figure(figsize=(15, 4))\n",
        "\n",
        "    plt.subplot(1, 3, 1)\n",
        "    plot_pdf_deltas(serie, 'Real')\n",
        "    plot_pdf_deltas(serie_p, f'P-model p={p:.4f}')\n",
        "    plt.title(\"PDF dos Incrementos\")\n",
        "    plt.legend()\n",
        "\n",
        "    plt.subplot(1, 3, 2)\n",
        "    espectro_potencia(serie, 'Real')\n",
        "    espectro_potencia(serie_p, f'P-model p={p:.4f}')\n",
        "    plt.title(\"Espectro de Potência\")\n",
        "    plt.legend()\n",
        "\n",
        "    plt.subplot(1, 3, 3)\n",
        "    plt.plot(np.log2(escalas), np.log2(var_real), label='Real')\n",
        "    plt.plot(np.log2(escalas), np.log2(var_p), label=f'P-model p={p:.4f}')\n",
        "    plt.title('Log-Log: Escala vs Variância')\n",
        "    plt.xlabel('log2(Escala)')\n",
        "    plt.ylabel('log2(Variância)')\n",
        "    plt.legend()\n",
        "\n",
        "    plt.tight_layout()\n",
        "    plt.show()\n"
      ],
      "metadata": {
        "id": "Zu6bO9NXoTiV"
      },
      "execution_count": null,
      "outputs": []
    },
    {
      "cell_type": "code",
      "source": [],
      "metadata": {
        "id": "4yO4Eo2WqQkD"
      },
      "execution_count": null,
      "outputs": []
    }
  ]
}